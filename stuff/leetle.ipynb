{
 "cells": [
  {
   "cell_type": "markdown",
   "metadata": {},
   "source": [
    "1. FizzBuzz\n",
    "\n",
    "Write a function solve that takes a number n and returns a list of numbers from 1 to n. If the number is divisible by 3, replace it with 'Fizz'. If the number is divisible by 5, replace it with 'Buzz'. If the number is divisible by both 3 and 5, replace it with 'FizzBuzz'.\n",
    "\n",
    "Example:\n",
    "\n",
    "Input: 15\n",
    "\n",
    "Output: [1, 2, 'Fizz', 4, 'Buzz', 'Fizz', 7, 8, 'Fizz', 'Buzz', 11, 'Fizz', 13, 14, 'FizzBuzz'] "
   ]
  },
  {
   "cell_type": "code",
   "execution_count": 74,
   "metadata": {},
   "outputs": [],
   "source": [
    "n = 15"
   ]
  },
  {
   "cell_type": "code",
   "execution_count": 89,
   "metadata": {},
   "outputs": [],
   "source": [
    "def solve(n):\n",
    "    r = []\n",
    "    for i in range(1,n+1):\n",
    "        if (i%3==0) and (i%5==0):\n",
    "            r.append('FizzBuzz')\n",
    "        elif i%3==0:\n",
    "            r.append('Fizz')\n",
    "        elif i%5==0:\n",
    "            r.append('Buzz')\n",
    "        else:\n",
    "            r.append(i)\n",
    "    return r"
   ]
  },
  {
   "cell_type": "code",
   "execution_count": 90,
   "metadata": {},
   "outputs": [
    {
     "data": {
      "text/plain": [
       "[1,\n",
       " 2,\n",
       " 'Fizz',\n",
       " 4,\n",
       " 'Buzz',\n",
       " 'Fizz',\n",
       " 7,\n",
       " 8,\n",
       " 'Fizz',\n",
       " 'Buzz',\n",
       " 11,\n",
       " 'Fizz',\n",
       " 13,\n",
       " 14,\n",
       " 'FizzBuzz']"
      ]
     },
     "execution_count": 90,
     "metadata": {},
     "output_type": "execute_result"
    }
   ],
   "source": [
    "solve(n)"
   ]
  },
  {
   "cell_type": "markdown",
   "metadata": {},
   "source": [
    "2. Single Number\n",
    "\n",
    "Write a function solve that finds the number that appears only once in a list where all other numbers appear twice.\n",
    "\n",
    "Example:\n",
    "\n",
    "Input: [4,1,2,1,2]\n",
    "\n",
    "Output: 4"
   ]
  },
  {
   "cell_type": "code",
   "execution_count": 73,
   "metadata": {},
   "outputs": [],
   "source": [
    "nums = [4,1,2,1,2]"
   ]
  },
  {
   "cell_type": "code",
   "execution_count": 82,
   "metadata": {},
   "outputs": [],
   "source": [
    "def solve(nums):\n",
    "    for n in nums:\n",
    "        n = nums.pop(0)\n",
    "        if n not in nums:\n",
    "            return n\n",
    "        else:\n",
    "            nums.append(n)"
   ]
  },
  {
   "cell_type": "markdown",
   "metadata": {},
   "source": [
    "3. Majority Element\n",
    "\n",
    "Write a function solve that finds the majority element in a list. The majority element appears more than n/2 times where n is the length of the list.\n",
    "\n",
    "Example:\n",
    "\n",
    "Input: [3,2,3]\n",
    "\n",
    "Output: 3"
   ]
  },
  {
   "cell_type": "code",
   "execution_count": 36,
   "metadata": {},
   "outputs": [],
   "source": [
    "nums = [3,2,3,3,3,5,5,5,5,5,5,5,1]"
   ]
  },
  {
   "cell_type": "code",
   "execution_count": 37,
   "metadata": {},
   "outputs": [],
   "source": [
    "def solve(nums):\n",
    "    max_n = len(nums) // 2\n",
    "    r = dict()\n",
    "    for n in nums:\n",
    "        if n in r.keys():\n",
    "            r[n]+=1\n",
    "        else:\n",
    "            r[n]=1\n",
    "    return max(r, key=r.get)"
   ]
  },
  {
   "cell_type": "code",
   "execution_count": 38,
   "metadata": {},
   "outputs": [
    {
     "data": {
      "text/plain": [
       "5"
      ]
     },
     "execution_count": 38,
     "metadata": {},
     "output_type": "execute_result"
    }
   ],
   "source": [
    "solve(nums)"
   ]
  },
  {
   "cell_type": "markdown",
   "metadata": {},
   "source": [
    "4. Missing Number\n",
    "\n",
    "Write a function solve that finds the missing number in a list of numbers from 0 to n. The list is missing one number.\n",
    "\n",
    "Example:\n",
    "\n",
    "Input: [3,0,1]\n",
    "\n",
    "Output: 2 "
   ]
  },
  {
   "cell_type": "code",
   "execution_count": 25,
   "metadata": {},
   "outputs": [],
   "source": [
    "def solve(nums):\n",
    "  nums = list(set(nums))\n",
    "  _max = len(nums)\n",
    "  for n in range(_max+1):\n",
    "    if n not in nums:\n",
    "      return n"
   ]
  },
  {
   "cell_type": "code",
   "execution_count": 26,
   "metadata": {},
   "outputs": [
    {
     "data": {
      "text/plain": [
       "2"
      ]
     },
     "execution_count": 26,
     "metadata": {},
     "output_type": "execute_result"
    }
   ],
   "source": [
    "nums3 = [1,0]\n",
    "\n",
    "solve(nums3)"
   ]
  },
  {
   "cell_type": "markdown",
   "metadata": {},
   "source": [
    "5. Valid Anagram\n",
    "\n",
    "Write a function solve that determines if two strings are anagrams of each other. An anagram is a word formed by rearranging the letters of another word.\n",
    "\n",
    "Example:\n",
    "\n",
    "Input: \"listen\", \"silent\"\n",
    "\n",
    "Output: true "
   ]
  },
  {
   "cell_type": "code",
   "execution_count": 69,
   "metadata": {},
   "outputs": [],
   "source": [
    "s1 = \"listen\"\n",
    "s2 = \"silent\""
   ]
  },
  {
   "cell_type": "code",
   "execution_count": 91,
   "metadata": {},
   "outputs": [],
   "source": [
    "def solve(s1, s2):\n",
    "    return sorted(s1) == sorted(s2)"
   ]
  },
  {
   "cell_type": "code",
   "execution_count": 92,
   "metadata": {},
   "outputs": [
    {
     "data": {
      "text/plain": [
       "True"
      ]
     },
     "execution_count": 92,
     "metadata": {},
     "output_type": "execute_result"
    }
   ],
   "source": [
    "solve(s1,s2)"
   ]
  },
  {
   "cell_type": "markdown",
   "metadata": {},
   "source": [
    "6. Maximum Subarray\n",
    "\n",
    "Write a function solve that finds the contiguous subarray with the largest sum in a list.\n",
    "\n",
    "Example:\n",
    "\n",
    "Input: [-2,1,-3,4,-1,2,1,-5,4]\n",
    "\n",
    "Output: 6 "
   ]
  },
  {
   "cell_type": "code",
   "execution_count": 94,
   "metadata": {},
   "outputs": [],
   "source": [
    "nums = [-2,1,-3,4,-1,2,1,-5,4]"
   ]
  },
  {
   "cell_type": "code",
   "execution_count": 95,
   "metadata": {},
   "outputs": [],
   "source": [
    "def solve(nums):\n",
    "  r = []\n",
    "  s = 0\n",
    "  for i in range(len(nums)+1):\n",
    "      for j in range(i+1,len(nums)+1):\n",
    "          s = sum(nums[i:j])\n",
    "          r.append(s)\n",
    "  return max(r)"
   ]
  },
  {
   "cell_type": "code",
   "execution_count": 96,
   "metadata": {},
   "outputs": [
    {
     "data": {
      "text/plain": [
       "6"
      ]
     },
     "execution_count": 96,
     "metadata": {},
     "output_type": "execute_result"
    }
   ],
   "source": [
    "solve(nums)"
   ]
  },
  {
   "cell_type": "markdown",
   "metadata": {},
   "source": [
    "7. Valid Parentheses\n",
    "\n",
    "Write a function solve that determines if a string s of parentheses is valid. Valid parentheses must be closed in the correct order.\n",
    "\n",
    "Example:\n",
    "\n",
    "Input: \"()[]{}\"\n",
    "\n",
    "Output: True "
   ]
  },
  {
   "cell_type": "code",
   "execution_count": 154,
   "metadata": {},
   "outputs": [],
   "source": [
    "s = \"{(})\""
   ]
  },
  {
   "cell_type": "code",
   "execution_count": 155,
   "metadata": {},
   "outputs": [],
   "source": [
    "def solve(s):\n",
    "    l = []\n",
    "    p = {')': '(', ']': '[', '}': '{'}\n",
    "    for c in s:\n",
    "        if c in '([{':\n",
    "            l.append(c)\n",
    "        elif len(l)>0:\n",
    "            if p[c] != l.pop():\n",
    "                return False\n",
    "        elif len(l)==0:\n",
    "            return False\n",
    "\n",
    "    return len(l)==0\n",
    "    "
   ]
  },
  {
   "cell_type": "code",
   "execution_count": 156,
   "metadata": {},
   "outputs": [
    {
     "data": {
      "text/plain": [
       "False"
      ]
     },
     "execution_count": 156,
     "metadata": {},
     "output_type": "execute_result"
    }
   ],
   "source": [
    "solve(s)"
   ]
  },
  {
   "cell_type": "markdown",
   "metadata": {},
   "source": [
    "8. Two Sum\n",
    "\n",
    "Write a function solve that finds two numbers in a list that add up to a target value. Return a list with their indices in order. If the target cannot be made, return an empty list.\n",
    "\n",
    "Example:\n",
    "\n",
    "Input: [2, 7, 11, 15], target=9\n",
    "\n",
    "Output: [0, 1]"
   ]
  },
  {
   "cell_type": "code",
   "execution_count": 166,
   "metadata": {},
   "outputs": [],
   "source": [
    "def solve(nums, target):\n",
    "    r = []\n",
    "    for i in range(len(nums)+1):\n",
    "        for j in range(i+1, len(nums)):\n",
    "            if (nums[i] + nums[j]) == target:\n",
    "                r = [i, j]\n",
    "    return r"
   ]
  },
  {
   "cell_type": "code",
   "execution_count": 171,
   "metadata": {},
   "outputs": [],
   "source": [
    "nums = [2, 7, 11, 15]\n",
    "target = 17"
   ]
  },
  {
   "cell_type": "code",
   "execution_count": 172,
   "metadata": {},
   "outputs": [
    {
     "data": {
      "text/plain": [
       "[0, 3]"
      ]
     },
     "execution_count": 172,
     "metadata": {},
     "output_type": "execute_result"
    }
   ],
   "source": [
    "solve(nums, target)"
   ]
  },
  {
   "cell_type": "markdown",
   "metadata": {},
   "source": [
    "9. Sliding Window Maximum\n",
    "\n",
    "Write a function solve that returns the maximum number in each window of size k sliding from left to right in a list. Your function should return a list of ints.\n",
    "\n",
    "Example:\n",
    "\n",
    "Input: [1,3,-1,-3,5,3,6,7], k=3\n",
    "\n",
    "Output: [3,3,5,5,6,7] \n"
   ]
  },
  {
   "cell_type": "code",
   "execution_count": 183,
   "metadata": {},
   "outputs": [],
   "source": [
    "def solve(nums, k):\n",
    "    res = []\n",
    "    for i in range(len(nums)+1-k):\n",
    "        res.append(max(nums[i:i+k]))\n",
    "    return res"
   ]
  },
  {
   "cell_type": "code",
   "execution_count": 184,
   "metadata": {},
   "outputs": [],
   "source": [
    "nums = [1,3,-1,-3,5,3,6,7]\n",
    "k=3"
   ]
  },
  {
   "cell_type": "code",
   "execution_count": 186,
   "metadata": {},
   "outputs": [
    {
     "data": {
      "text/plain": [
       "[3, 3, 5, 5, 6, 7]"
      ]
     },
     "execution_count": 186,
     "metadata": {},
     "output_type": "execute_result"
    }
   ],
   "source": [
    "solve(nums, k)"
   ]
  },
  {
   "cell_type": "markdown",
   "metadata": {},
   "source": [
    "10. First Missing Positive\n",
    "\n",
    "Write a function solve that finds the first missing positive integer given an unsorted list. That is, the smallest positive integer not in the list.\n",
    "\n",
    "Example:\n",
    "\n",
    "Input: [3,4,-1,1]\n",
    "\n",
    "Output: 2 "
   ]
  },
  {
   "cell_type": "code",
   "execution_count": 213,
   "metadata": {},
   "outputs": [],
   "source": [
    "def solve(nums):\n",
    "    for i in range(1, max(nums)+2):\n",
    "        if i not in nums:\n",
    "            return i"
   ]
  },
  {
   "cell_type": "code",
   "execution_count": 214,
   "metadata": {},
   "outputs": [],
   "source": [
    "# nums = [3,4,-1,1]\n",
    "nums = [1,2,0]"
   ]
  },
  {
   "cell_type": "code",
   "execution_count": 215,
   "metadata": {},
   "outputs": [
    {
     "data": {
      "text/plain": [
       "3"
      ]
     },
     "execution_count": 215,
     "metadata": {},
     "output_type": "execute_result"
    }
   ],
   "source": [
    "solve(nums)"
   ]
  },
  {
   "cell_type": "markdown",
   "metadata": {},
   "source": [
    "11. Palindrome Check\n",
    "\n",
    "Write a function solve that checks if a string is a palindrome, considering only alphanumeric characters and ignoring case.\n",
    "\n",
    "Example:\n",
    "\n",
    "Input: \"A man, a plan, a canal: Panama\"\n",
    "\n",
    "Output: True \n"
   ]
  },
  {
   "cell_type": "code",
   "execution_count": 220,
   "metadata": {},
   "outputs": [],
   "source": [
    "def solve(s):\n",
    "    s = s.lower()\n",
    "    s = ''.join(char for char in s if char.isalnum())\n",
    "    return s==s[::-1]"
   ]
  },
  {
   "cell_type": "code",
   "execution_count": 221,
   "metadata": {},
   "outputs": [],
   "source": [
    "s = \"A man, a plan, a canal: Panama\""
   ]
  },
  {
   "cell_type": "code",
   "execution_count": 222,
   "metadata": {},
   "outputs": [
    {
     "data": {
      "text/plain": [
       "True"
      ]
     },
     "execution_count": 222,
     "metadata": {},
     "output_type": "execute_result"
    }
   ],
   "source": [
    "solve(s)"
   ]
  },
  {
   "cell_type": "markdown",
   "metadata": {},
   "source": [
    "12. Count Islands (Square)\n",
    "\n",
    "Write a function solve that counts the number of islands in a square 2D grid. An island is surrounded by water (0s) and is formed by connecting adjacent lands (1s) horizontally or vertically.\n",
    "\n",
    "Example:\n",
    "\n",
    "Input: [\n",
    "    [1,1,0],\n",
    "    [0,1,0],\n",
    "    [1,0,1]\n",
    "    ]\n",
    "\n",
    "Output: 3"
   ]
  },
  {
   "cell_type": "code",
   "execution_count": 238,
   "metadata": {},
   "outputs": [],
   "source": [
    "def solve(grid):\n",
    "    n = len(grid)\n",
    "    m = int(sum([len(i) for i in grid])/n)\n",
    "    if n==m:\n",
    "        return n"
   ]
  },
  {
   "cell_type": "code",
   "execution_count": 236,
   "metadata": {},
   "outputs": [],
   "source": [
    "grid = [\n",
    "    [1,1,0],\n",
    "    [0,1,0],\n",
    "    [1,0,1]\n",
    "]"
   ]
  },
  {
   "cell_type": "code",
   "execution_count": 237,
   "metadata": {},
   "outputs": [
    {
     "data": {
      "text/plain": [
       "3"
      ]
     },
     "execution_count": 237,
     "metadata": {},
     "output_type": "execute_result"
    }
   ],
   "source": [
    "solve(grid)"
   ]
  },
  {
   "cell_type": "code",
   "execution_count": null,
   "metadata": {},
   "outputs": [],
   "source": []
  }
 ],
 "metadata": {
  "kernelspec": {
   "display_name": "base",
   "language": "python",
   "name": "python3"
  },
  "language_info": {
   "codemirror_mode": {
    "name": "ipython",
    "version": 3
   },
   "file_extension": ".py",
   "mimetype": "text/x-python",
   "name": "python",
   "nbconvert_exporter": "python",
   "pygments_lexer": "ipython3",
   "version": "3.11.5"
  }
 },
 "nbformat": 4,
 "nbformat_minor": 2
}
