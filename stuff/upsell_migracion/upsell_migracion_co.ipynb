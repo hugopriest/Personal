{
 "cells": [
  {
   "cell_type": "code",
   "execution_count": 1,
   "metadata": {},
   "outputs": [],
   "source": [
    "import soditools.soditools as u\n",
    "import pandas as pd\n",
    "import numpy as np"
   ]
  },
  {
   "cell_type": "code",
   "execution_count": 2,
   "metadata": {},
   "outputs": [],
   "source": [
    "country_id = 'CO'\n",
    "\n",
    "plp_file = f'UPSELL_{country_id}.csv'\n",
    "plp_bucket = f'bucket_recommender_{country_id.lower()}'\n",
    "plp_path = f'gs://{plp_bucket}/'\n",
    "\n",
    "sandbox_file = f'UPSELL_{country_id}.csv'\n",
    "sandbox_bucket = f'bucket_recommender_sandbox_{country_id.lower()}'\n",
    "sandbox_path = f'gs://{sandbox_bucket}/'"
   ]
  },
  {
   "cell_type": "code",
   "execution_count": 3,
   "metadata": {},
   "outputs": [],
   "source": [
    "# df = pd.read_csv(_path+_file)\n",
    "df_plp = pd.read_csv(plp_path+plp_file)"
   ]
  },
  {
   "cell_type": "code",
   "execution_count": 4,
   "metadata": {},
   "outputs": [
    {
     "data": {
      "text/html": [
       "<div>\n",
       "<style scoped>\n",
       "    .dataframe tbody tr th:only-of-type {\n",
       "        vertical-align: middle;\n",
       "    }\n",
       "\n",
       "    .dataframe tbody tr th {\n",
       "        vertical-align: top;\n",
       "    }\n",
       "\n",
       "    .dataframe thead th {\n",
       "        text-align: right;\n",
       "    }\n",
       "</style>\n",
       "<table border=\"1\" class=\"dataframe\">\n",
       "  <thead>\n",
       "    <tr style=\"text-align: right;\">\n",
       "      <th></th>\n",
       "      <th>productId</th>\n",
       "      <th>upsell_a_pro</th>\n",
       "      <th>upsell_a_hogar</th>\n",
       "      <th>upsell_a_sin_segmento</th>\n",
       "      <th>upsell_b_pro</th>\n",
       "      <th>upsell_b_hogar</th>\n",
       "      <th>upsell_b_sin_segmento</th>\n",
       "    </tr>\n",
       "  </thead>\n",
       "  <tbody>\n",
       "    <tr>\n",
       "      <th>0</th>\n",
       "      <td>281</td>\n",
       "      <td>NaN</td>\n",
       "      <td>NaN</td>\n",
       "      <td>482964|304617|660656|87728|660655|87729|522219...</td>\n",
       "      <td>NaN</td>\n",
       "      <td>NaN</td>\n",
       "      <td>NaN</td>\n",
       "    </tr>\n",
       "    <tr>\n",
       "      <th>1</th>\n",
       "      <td>837</td>\n",
       "      <td>NaN</td>\n",
       "      <td>NaN</td>\n",
       "      <td>00838|557687|557688|655724|00326|735019|00294|...</td>\n",
       "      <td>NaN</td>\n",
       "      <td>NaN</td>\n",
       "      <td>NaN</td>\n",
       "    </tr>\n",
       "    <tr>\n",
       "      <th>2</th>\n",
       "      <td>1343</td>\n",
       "      <td>NaN</td>\n",
       "      <td>NaN</td>\n",
       "      <td>551788|551789|331373|732109|697461|474702|7746...</td>\n",
       "      <td>NaN</td>\n",
       "      <td>NaN</td>\n",
       "      <td>NaN</td>\n",
       "    </tr>\n",
       "    <tr>\n",
       "      <th>3</th>\n",
       "      <td>2259</td>\n",
       "      <td>NaN</td>\n",
       "      <td>NaN</td>\n",
       "      <td>16997|17004|02266|02251|02264|02151|02173|5188...</td>\n",
       "      <td>NaN</td>\n",
       "      <td>NaN</td>\n",
       "      <td>NaN</td>\n",
       "    </tr>\n",
       "    <tr>\n",
       "      <th>4</th>\n",
       "      <td>2284</td>\n",
       "      <td>NaN</td>\n",
       "      <td>NaN</td>\n",
       "      <td>02228|02222|02253|02262|02233|02172|518889|021...</td>\n",
       "      <td>NaN</td>\n",
       "      <td>NaN</td>\n",
       "      <td>NaN</td>\n",
       "    </tr>\n",
       "  </tbody>\n",
       "</table>\n",
       "</div>"
      ],
      "text/plain": [
       "   productId  upsell_a_pro  upsell_a_hogar  \\\n",
       "0        281           NaN             NaN   \n",
       "1        837           NaN             NaN   \n",
       "2       1343           NaN             NaN   \n",
       "3       2259           NaN             NaN   \n",
       "4       2284           NaN             NaN   \n",
       "\n",
       "                               upsell_a_sin_segmento  upsell_b_pro  \\\n",
       "0  482964|304617|660656|87728|660655|87729|522219...           NaN   \n",
       "1  00838|557687|557688|655724|00326|735019|00294|...           NaN   \n",
       "2  551788|551789|331373|732109|697461|474702|7746...           NaN   \n",
       "3  16997|17004|02266|02251|02264|02151|02173|5188...           NaN   \n",
       "4  02228|02222|02253|02262|02233|02172|518889|021...           NaN   \n",
       "\n",
       "   upsell_b_hogar  upsell_b_sin_segmento  \n",
       "0             NaN                    NaN  \n",
       "1             NaN                    NaN  \n",
       "2             NaN                    NaN  \n",
       "3             NaN                    NaN  \n",
       "4             NaN                    NaN  "
      ]
     },
     "execution_count": 4,
     "metadata": {},
     "output_type": "execute_result"
    }
   ],
   "source": [
    "df_plp.head()"
   ]
  },
  {
   "cell_type": "code",
   "execution_count": 5,
   "metadata": {},
   "outputs": [],
   "source": [
    "df_sandbox = pd.read_csv(sandbox_path+sandbox_file)"
   ]
  },
  {
   "cell_type": "code",
   "execution_count": 6,
   "metadata": {},
   "outputs": [
    {
     "data": {
      "text/html": [
       "<div>\n",
       "<style scoped>\n",
       "    .dataframe tbody tr th:only-of-type {\n",
       "        vertical-align: middle;\n",
       "    }\n",
       "\n",
       "    .dataframe tbody tr th {\n",
       "        vertical-align: top;\n",
       "    }\n",
       "\n",
       "    .dataframe thead th {\n",
       "        text-align: right;\n",
       "    }\n",
       "</style>\n",
       "<table border=\"1\" class=\"dataframe\">\n",
       "  <thead>\n",
       "    <tr style=\"text-align: right;\">\n",
       "      <th></th>\n",
       "      <th>productId</th>\n",
       "      <th>upsell_a_pro</th>\n",
       "      <th>upsell_a_hogar</th>\n",
       "      <th>upsell_a_sin_segmento</th>\n",
       "      <th>upsell_b_pro</th>\n",
       "      <th>upsell_b_hogar</th>\n",
       "      <th>upsell_b_sin_segmento</th>\n",
       "    </tr>\n",
       "  </thead>\n",
       "  <tbody>\n",
       "    <tr>\n",
       "      <th>0</th>\n",
       "      <td>423</td>\n",
       "      <td>NaN</td>\n",
       "      <td>NaN</td>\n",
       "      <td>00424|66871|00422|58592|23767|227041|66821|551...</td>\n",
       "      <td>NaN</td>\n",
       "      <td>NaN</td>\n",
       "      <td>NaN</td>\n",
       "    </tr>\n",
       "    <tr>\n",
       "      <th>1</th>\n",
       "      <td>1960</td>\n",
       "      <td>NaN</td>\n",
       "      <td>NaN</td>\n",
       "      <td>553967|625253|689477|746104|500985|786407|7314...</td>\n",
       "      <td>NaN</td>\n",
       "      <td>NaN</td>\n",
       "      <td>NaN</td>\n",
       "    </tr>\n",
       "    <tr>\n",
       "      <th>2</th>\n",
       "      <td>2168</td>\n",
       "      <td>NaN</td>\n",
       "      <td>NaN</td>\n",
       "      <td>238978|34131|572771|238977|572767|238980|57276...</td>\n",
       "      <td>NaN</td>\n",
       "      <td>NaN</td>\n",
       "      <td>NaN</td>\n",
       "    </tr>\n",
       "    <tr>\n",
       "      <th>3</th>\n",
       "      <td>3637</td>\n",
       "      <td>NaN</td>\n",
       "      <td>NaN</td>\n",
       "      <td>551967|03644|312772|644084|276789|673816|23053...</td>\n",
       "      <td>NaN</td>\n",
       "      <td>NaN</td>\n",
       "      <td>NaN</td>\n",
       "    </tr>\n",
       "    <tr>\n",
       "      <th>4</th>\n",
       "      <td>3658</td>\n",
       "      <td>NaN</td>\n",
       "      <td>NaN</td>\n",
       "      <td>689251|689252|102147|214584|164329|519953|5199...</td>\n",
       "      <td>NaN</td>\n",
       "      <td>NaN</td>\n",
       "      <td>NaN</td>\n",
       "    </tr>\n",
       "  </tbody>\n",
       "</table>\n",
       "</div>"
      ],
      "text/plain": [
       "   productId  upsell_a_pro  upsell_a_hogar  \\\n",
       "0        423           NaN             NaN   \n",
       "1       1960           NaN             NaN   \n",
       "2       2168           NaN             NaN   \n",
       "3       3637           NaN             NaN   \n",
       "4       3658           NaN             NaN   \n",
       "\n",
       "                               upsell_a_sin_segmento  upsell_b_pro  \\\n",
       "0  00424|66871|00422|58592|23767|227041|66821|551...           NaN   \n",
       "1  553967|625253|689477|746104|500985|786407|7314...           NaN   \n",
       "2  238978|34131|572771|238977|572767|238980|57276...           NaN   \n",
       "3  551967|03644|312772|644084|276789|673816|23053...           NaN   \n",
       "4  689251|689252|102147|214584|164329|519953|5199...           NaN   \n",
       "\n",
       "   upsell_b_hogar  upsell_b_sin_segmento  \n",
       "0             NaN                    NaN  \n",
       "1             NaN                    NaN  \n",
       "2             NaN                    NaN  \n",
       "3             NaN                    NaN  \n",
       "4             NaN                    NaN  "
      ]
     },
     "execution_count": 6,
     "metadata": {},
     "output_type": "execute_result"
    }
   ],
   "source": [
    "df_sandbox.head()"
   ]
  },
  {
   "cell_type": "code",
   "execution_count": 7,
   "metadata": {},
   "outputs": [
    {
     "name": "stdout",
     "output_type": "stream",
     "text": [
      "<class 'pandas.core.frame.DataFrame'>\n",
      "RangeIndex: 438164 entries, 0 to 438163\n",
      "Data columns (total 7 columns):\n",
      " #   Column                 Non-Null Count   Dtype  \n",
      "---  ------                 --------------   -----  \n",
      " 0   productId              438164 non-null  int64  \n",
      " 1   upsell_a_pro           0 non-null       float64\n",
      " 2   upsell_a_hogar         0 non-null       float64\n",
      " 3   upsell_a_sin_segmento  438164 non-null  object \n",
      " 4   upsell_b_pro           0 non-null       float64\n",
      " 5   upsell_b_hogar         0 non-null       float64\n",
      " 6   upsell_b_sin_segmento  0 non-null       float64\n",
      "dtypes: float64(5), int64(1), object(1)\n",
      "memory usage: 23.4+ MB\n"
     ]
    }
   ],
   "source": [
    "df_plp.info()"
   ]
  },
  {
   "cell_type": "code",
   "execution_count": 8,
   "metadata": {},
   "outputs": [
    {
     "name": "stdout",
     "output_type": "stream",
     "text": [
      "<class 'pandas.core.frame.DataFrame'>\n",
      "RangeIndex: 438164 entries, 0 to 438163\n",
      "Data columns (total 7 columns):\n",
      " #   Column                 Non-Null Count   Dtype  \n",
      "---  ------                 --------------   -----  \n",
      " 0   productId              438164 non-null  int64  \n",
      " 1   upsell_a_pro           0 non-null       float64\n",
      " 2   upsell_a_hogar         0 non-null       float64\n",
      " 3   upsell_a_sin_segmento  438164 non-null  object \n",
      " 4   upsell_b_pro           0 non-null       float64\n",
      " 5   upsell_b_hogar         0 non-null       float64\n",
      " 6   upsell_b_sin_segmento  0 non-null       float64\n",
      "dtypes: float64(5), int64(1), object(1)\n",
      "memory usage: 23.4+ MB\n"
     ]
    }
   ],
   "source": [
    "df_sandbox.info()"
   ]
  },
  {
   "cell_type": "code",
   "execution_count": 9,
   "metadata": {},
   "outputs": [],
   "source": [
    "_cols = ['productId','upsell_a_sin_segmento']\n",
    "df = pd.merge(left=df_plp[_cols], right=df_sandbox[_cols], how='outer', on='productId', suffixes=['_plp','_sandbox'])"
   ]
  },
  {
   "cell_type": "code",
   "execution_count": 10,
   "metadata": {},
   "outputs": [
    {
     "name": "stdout",
     "output_type": "stream",
     "text": [
      "<class 'pandas.core.frame.DataFrame'>\n",
      "RangeIndex: 438164 entries, 0 to 438163\n",
      "Data columns (total 3 columns):\n",
      " #   Column                         Non-Null Count   Dtype \n",
      "---  ------                         --------------   ----- \n",
      " 0   productId                      438164 non-null  int64 \n",
      " 1   upsell_a_sin_segmento_plp      438164 non-null  object\n",
      " 2   upsell_a_sin_segmento_sandbox  438164 non-null  object\n",
      "dtypes: int64(1), object(2)\n",
      "memory usage: 10.0+ MB\n"
     ]
    }
   ],
   "source": [
    "df.info()"
   ]
  },
  {
   "cell_type": "code",
   "execution_count": 11,
   "metadata": {},
   "outputs": [
    {
     "data": {
      "text/html": [
       "<div>\n",
       "<style scoped>\n",
       "    .dataframe tbody tr th:only-of-type {\n",
       "        vertical-align: middle;\n",
       "    }\n",
       "\n",
       "    .dataframe tbody tr th {\n",
       "        vertical-align: top;\n",
       "    }\n",
       "\n",
       "    .dataframe thead th {\n",
       "        text-align: right;\n",
       "    }\n",
       "</style>\n",
       "<table border=\"1\" class=\"dataframe\">\n",
       "  <thead>\n",
       "    <tr style=\"text-align: right;\">\n",
       "      <th></th>\n",
       "      <th>productId</th>\n",
       "      <th>upsell_a_sin_segmento_plp</th>\n",
       "      <th>upsell_a_sin_segmento_sandbox</th>\n",
       "    </tr>\n",
       "  </thead>\n",
       "  <tbody>\n",
       "    <tr>\n",
       "      <th>0</th>\n",
       "      <td>281</td>\n",
       "      <td>482964|304617|660656|87728|660655|87729|522219...</td>\n",
       "      <td>304617|87728|308667|660655|522219|582283|87729...</td>\n",
       "    </tr>\n",
       "    <tr>\n",
       "      <th>1</th>\n",
       "      <td>837</td>\n",
       "      <td>00838|557687|557688|655724|00326|735019|00294|...</td>\n",
       "      <td>00838|557687|557688|00326|00294|00799|00797|00...</td>\n",
       "    </tr>\n",
       "    <tr>\n",
       "      <th>2</th>\n",
       "      <td>1343</td>\n",
       "      <td>551788|551789|331373|732109|697461|474702|7746...</td>\n",
       "      <td>551789|551788|331373|474703|732109|495475|7225...</td>\n",
       "    </tr>\n",
       "    <tr>\n",
       "      <th>3</th>\n",
       "      <td>2259</td>\n",
       "      <td>16997|17004|02266|02251|02264|02151|02173|5188...</td>\n",
       "      <td>17001|02251|02237|02235|02156|17041|02264|1242...</td>\n",
       "    </tr>\n",
       "    <tr>\n",
       "      <th>4</th>\n",
       "      <td>2284</td>\n",
       "      <td>02228|02222|02253|02262|02233|02172|518889|021...</td>\n",
       "      <td>02277|02194|02226|02233|02282|02247|02179|0217...</td>\n",
       "    </tr>\n",
       "  </tbody>\n",
       "</table>\n",
       "</div>"
      ],
      "text/plain": [
       "   productId                          upsell_a_sin_segmento_plp  \\\n",
       "0        281  482964|304617|660656|87728|660655|87729|522219...   \n",
       "1        837  00838|557687|557688|655724|00326|735019|00294|...   \n",
       "2       1343  551788|551789|331373|732109|697461|474702|7746...   \n",
       "3       2259  16997|17004|02266|02251|02264|02151|02173|5188...   \n",
       "4       2284  02228|02222|02253|02262|02233|02172|518889|021...   \n",
       "\n",
       "                       upsell_a_sin_segmento_sandbox  \n",
       "0  304617|87728|308667|660655|522219|582283|87729...  \n",
       "1  00838|557687|557688|00326|00294|00799|00797|00...  \n",
       "2  551789|551788|331373|474703|732109|495475|7225...  \n",
       "3  17001|02251|02237|02235|02156|17041|02264|1242...  \n",
       "4  02277|02194|02226|02233|02282|02247|02179|0217...  "
      ]
     },
     "execution_count": 11,
     "metadata": {},
     "output_type": "execute_result"
    }
   ],
   "source": [
    "df.head()"
   ]
  },
  {
   "cell_type": "code",
   "execution_count": 12,
   "metadata": {},
   "outputs": [
    {
     "data": {
      "text/html": [
       "<div>\n",
       "<style scoped>\n",
       "    .dataframe tbody tr th:only-of-type {\n",
       "        vertical-align: middle;\n",
       "    }\n",
       "\n",
       "    .dataframe tbody tr th {\n",
       "        vertical-align: top;\n",
       "    }\n",
       "\n",
       "    .dataframe thead th {\n",
       "        text-align: right;\n",
       "    }\n",
       "</style>\n",
       "<table border=\"1\" class=\"dataframe\">\n",
       "  <thead>\n",
       "    <tr style=\"text-align: right;\">\n",
       "      <th></th>\n",
       "      <th>productId</th>\n",
       "    </tr>\n",
       "  </thead>\n",
       "  <tbody>\n",
       "    <tr>\n",
       "      <th>count</th>\n",
       "      <td>4.381640e+05</td>\n",
       "    </tr>\n",
       "    <tr>\n",
       "      <th>mean</th>\n",
       "      <td>5.170405e+05</td>\n",
       "    </tr>\n",
       "    <tr>\n",
       "      <th>std</th>\n",
       "      <td>1.765885e+05</td>\n",
       "    </tr>\n",
       "    <tr>\n",
       "      <th>min</th>\n",
       "      <td>2.100000e+02</td>\n",
       "    </tr>\n",
       "    <tr>\n",
       "      <th>25%</th>\n",
       "      <td>3.879938e+05</td>\n",
       "    </tr>\n",
       "    <tr>\n",
       "      <th>50%</th>\n",
       "      <td>5.236965e+05</td>\n",
       "    </tr>\n",
       "    <tr>\n",
       "      <th>75%</th>\n",
       "      <td>6.453722e+05</td>\n",
       "    </tr>\n",
       "    <tr>\n",
       "      <th>max</th>\n",
       "      <td>8.700427e+06</td>\n",
       "    </tr>\n",
       "  </tbody>\n",
       "</table>\n",
       "</div>"
      ],
      "text/plain": [
       "          productId\n",
       "count  4.381640e+05\n",
       "mean   5.170405e+05\n",
       "std    1.765885e+05\n",
       "min    2.100000e+02\n",
       "25%    3.879938e+05\n",
       "50%    5.236965e+05\n",
       "75%    6.453722e+05\n",
       "max    8.700427e+06"
      ]
     },
     "execution_count": 12,
     "metadata": {},
     "output_type": "execute_result"
    }
   ],
   "source": [
    "df.describe()"
   ]
  },
  {
   "cell_type": "code",
   "execution_count": 13,
   "metadata": {},
   "outputs": [],
   "source": [
    "from typing import Tuple\n",
    "\n",
    "def compare_lists(str_list1: str, str_list2: str, separator: str = \"|\") -> Tuple[float, float, float]:\n",
    "    \"\"\"\n",
    "    Compara dos listas representadas como strings usando múltiples métricas:\n",
    "    - Jaccard Similarity\n",
    "    - Sorensen-Dice Coefficient\n",
    "    - Overlap Coefficient\n",
    "    \n",
    "    :param str_list1: Primer string de elementos separados por el delimitador.\n",
    "    :param str_list2: Segundo string de elementos separados por el delimitador.\n",
    "    :param separator: Caracter que separa los elementos en los strings (por defecto \"|\").\n",
    "    :return: (Jaccard, Dice, Overlap)\n",
    "    \"\"\"\n",
    "    if not isinstance(str_list1, str):\n",
    "        str_list1 = str(str_list1) if str_list1 is not None else \"\"\n",
    "\n",
    "    if not isinstance(str_list2, str):\n",
    "        str_list2 = str(str_list2) if str_list2 is not None else \"\"\n",
    "\n",
    "    if not str_list1 or not str_list2:\n",
    "        return (0.0, 0.0, 0.0)\n",
    "\n",
    "    set1 = set(str_list1.split(separator))\n",
    "    set2 = set(str_list2.split(separator))\n",
    "\n",
    "    intersection = len(set1 & set2)\n",
    "    union = len(set1 | set2)\n",
    "    min_size = min(len(set1), len(set2))\n",
    "\n",
    "    jaccard = intersection / union if union != 0 else 0.0\n",
    "    dice = (2 * intersection) / (len(set1) + len(set2)) if (len(set1) + len(set2)) != 0 else 0.0\n",
    "    overlap = intersection / min_size if min_size != 0 else 0.0\n",
    "\n",
    "    return (jaccard, dice, overlap)"
   ]
  },
  {
   "cell_type": "code",
   "execution_count": 14,
   "metadata": {},
   "outputs": [
    {
     "data": {
      "text/plain": [
       "Index(['productId', 'upsell_a_sin_segmento_plp',\n",
       "       'upsell_a_sin_segmento_sandbox'],\n",
       "      dtype='object')"
      ]
     },
     "execution_count": 14,
     "metadata": {},
     "output_type": "execute_result"
    }
   ],
   "source": [
    "df.columns"
   ]
  },
  {
   "cell_type": "code",
   "execution_count": 15,
   "metadata": {},
   "outputs": [],
   "source": [
    "df['sim_a_sin_segmento'] = df[['upsell_a_sin_segmento_plp','upsell_a_sin_segmento_sandbox']].apply(lambda x: compare_lists(x[0],x[1])[1], axis=1)"
   ]
  },
  {
   "cell_type": "code",
   "execution_count": 16,
   "metadata": {},
   "outputs": [
    {
     "data": {
      "text/html": [
       "<div>\n",
       "<style scoped>\n",
       "    .dataframe tbody tr th:only-of-type {\n",
       "        vertical-align: middle;\n",
       "    }\n",
       "\n",
       "    .dataframe tbody tr th {\n",
       "        vertical-align: top;\n",
       "    }\n",
       "\n",
       "    .dataframe thead th {\n",
       "        text-align: right;\n",
       "    }\n",
       "</style>\n",
       "<table border=\"1\" class=\"dataframe\">\n",
       "  <thead>\n",
       "    <tr style=\"text-align: right;\">\n",
       "      <th></th>\n",
       "      <th>productId</th>\n",
       "      <th>upsell_a_sin_segmento_plp</th>\n",
       "      <th>upsell_a_sin_segmento_sandbox</th>\n",
       "      <th>sim_a_sin_segmento</th>\n",
       "    </tr>\n",
       "  </thead>\n",
       "  <tbody>\n",
       "    <tr>\n",
       "      <th>0</th>\n",
       "      <td>281</td>\n",
       "      <td>482964|304617|660656|87728|660655|87729|522219...</td>\n",
       "      <td>304617|87728|308667|660655|522219|582283|87729...</td>\n",
       "      <td>0.80</td>\n",
       "    </tr>\n",
       "    <tr>\n",
       "      <th>1</th>\n",
       "      <td>837</td>\n",
       "      <td>00838|557687|557688|655724|00326|735019|00294|...</td>\n",
       "      <td>00838|557687|557688|00326|00294|00799|00797|00...</td>\n",
       "      <td>0.80</td>\n",
       "    </tr>\n",
       "    <tr>\n",
       "      <th>2</th>\n",
       "      <td>1343</td>\n",
       "      <td>551788|551789|331373|732109|697461|474702|7746...</td>\n",
       "      <td>551789|551788|331373|474703|732109|495475|7225...</td>\n",
       "      <td>0.35</td>\n",
       "    </tr>\n",
       "    <tr>\n",
       "      <th>3</th>\n",
       "      <td>2259</td>\n",
       "      <td>16997|17004|02266|02251|02264|02151|02173|5188...</td>\n",
       "      <td>17001|02251|02237|02235|02156|17041|02264|1242...</td>\n",
       "      <td>0.50</td>\n",
       "    </tr>\n",
       "    <tr>\n",
       "      <th>4</th>\n",
       "      <td>2284</td>\n",
       "      <td>02228|02222|02253|02262|02233|02172|518889|021...</td>\n",
       "      <td>02277|02194|02226|02233|02282|02247|02179|0217...</td>\n",
       "      <td>0.55</td>\n",
       "    </tr>\n",
       "    <tr>\n",
       "      <th>5</th>\n",
       "      <td>2372</td>\n",
       "      <td>436148|892095|892066|892106|892058|436147|8920...</td>\n",
       "      <td>892061|892036|892047|892056|892102|892009|8920...</td>\n",
       "      <td>0.65</td>\n",
       "    </tr>\n",
       "    <tr>\n",
       "      <th>6</th>\n",
       "      <td>2411</td>\n",
       "      <td>182085|182070|182069|182083|182080|182072|1820...</td>\n",
       "      <td>182085|182070|182083|182072|182073|182080|1820...</td>\n",
       "      <td>0.40</td>\n",
       "    </tr>\n",
       "    <tr>\n",
       "      <th>7</th>\n",
       "      <td>2631</td>\n",
       "      <td>60469|02628|101088|60470|414761|575050|101089|...</td>\n",
       "      <td>60469|101088|60470|101089|620882|703584|620894...</td>\n",
       "      <td>0.25</td>\n",
       "    </tr>\n",
       "    <tr>\n",
       "      <th>8</th>\n",
       "      <td>3394</td>\n",
       "      <td>624118|624415|500404|525423|614363|624410|6143...</td>\n",
       "      <td>614343|624355|742244|729766|522444|500404|1142...</td>\n",
       "      <td>0.15</td>\n",
       "    </tr>\n",
       "    <tr>\n",
       "      <th>9</th>\n",
       "      <td>5255</td>\n",
       "      <td>142191|142196|292578|147692|153295|147664|1532...</td>\n",
       "      <td>147692|292578|255907|142196|00609|186574|15330...</td>\n",
       "      <td>0.50</td>\n",
       "    </tr>\n",
       "  </tbody>\n",
       "</table>\n",
       "</div>"
      ],
      "text/plain": [
       "   productId                          upsell_a_sin_segmento_plp  \\\n",
       "0        281  482964|304617|660656|87728|660655|87729|522219...   \n",
       "1        837  00838|557687|557688|655724|00326|735019|00294|...   \n",
       "2       1343  551788|551789|331373|732109|697461|474702|7746...   \n",
       "3       2259  16997|17004|02266|02251|02264|02151|02173|5188...   \n",
       "4       2284  02228|02222|02253|02262|02233|02172|518889|021...   \n",
       "5       2372  436148|892095|892066|892106|892058|436147|8920...   \n",
       "6       2411  182085|182070|182069|182083|182080|182072|1820...   \n",
       "7       2631  60469|02628|101088|60470|414761|575050|101089|...   \n",
       "8       3394  624118|624415|500404|525423|614363|624410|6143...   \n",
       "9       5255  142191|142196|292578|147692|153295|147664|1532...   \n",
       "\n",
       "                       upsell_a_sin_segmento_sandbox  sim_a_sin_segmento  \n",
       "0  304617|87728|308667|660655|522219|582283|87729...                0.80  \n",
       "1  00838|557687|557688|00326|00294|00799|00797|00...                0.80  \n",
       "2  551789|551788|331373|474703|732109|495475|7225...                0.35  \n",
       "3  17001|02251|02237|02235|02156|17041|02264|1242...                0.50  \n",
       "4  02277|02194|02226|02233|02282|02247|02179|0217...                0.55  \n",
       "5  892061|892036|892047|892056|892102|892009|8920...                0.65  \n",
       "6  182085|182070|182083|182072|182073|182080|1820...                0.40  \n",
       "7  60469|101088|60470|101089|620882|703584|620894...                0.25  \n",
       "8  614343|624355|742244|729766|522444|500404|1142...                0.15  \n",
       "9  147692|292578|255907|142196|00609|186574|15330...                0.50  "
      ]
     },
     "execution_count": 16,
     "metadata": {},
     "output_type": "execute_result"
    }
   ],
   "source": [
    "df.head(10)"
   ]
  },
  {
   "cell_type": "code",
   "execution_count": 17,
   "metadata": {},
   "outputs": [
    {
     "data": {
      "text/html": [
       "<div>\n",
       "<style scoped>\n",
       "    .dataframe tbody tr th:only-of-type {\n",
       "        vertical-align: middle;\n",
       "    }\n",
       "\n",
       "    .dataframe tbody tr th {\n",
       "        vertical-align: top;\n",
       "    }\n",
       "\n",
       "    .dataframe thead th {\n",
       "        text-align: right;\n",
       "    }\n",
       "</style>\n",
       "<table border=\"1\" class=\"dataframe\">\n",
       "  <thead>\n",
       "    <tr style=\"text-align: right;\">\n",
       "      <th></th>\n",
       "      <th>sim_a_sin_segmento</th>\n",
       "    </tr>\n",
       "  </thead>\n",
       "  <tbody>\n",
       "    <tr>\n",
       "      <th>count</th>\n",
       "      <td>438164.000000</td>\n",
       "    </tr>\n",
       "    <tr>\n",
       "      <th>mean</th>\n",
       "      <td>0.492072</td>\n",
       "    </tr>\n",
       "    <tr>\n",
       "      <th>std</th>\n",
       "      <td>0.298279</td>\n",
       "    </tr>\n",
       "    <tr>\n",
       "      <th>min</th>\n",
       "      <td>0.000000</td>\n",
       "    </tr>\n",
       "    <tr>\n",
       "      <th>25%</th>\n",
       "      <td>0.250000</td>\n",
       "    </tr>\n",
       "    <tr>\n",
       "      <th>50%</th>\n",
       "      <td>0.500000</td>\n",
       "    </tr>\n",
       "    <tr>\n",
       "      <th>75%</th>\n",
       "      <td>0.750000</td>\n",
       "    </tr>\n",
       "    <tr>\n",
       "      <th>max</th>\n",
       "      <td>1.000000</td>\n",
       "    </tr>\n",
       "  </tbody>\n",
       "</table>\n",
       "</div>"
      ],
      "text/plain": [
       "       sim_a_sin_segmento\n",
       "count       438164.000000\n",
       "mean             0.492072\n",
       "std              0.298279\n",
       "min              0.000000\n",
       "25%              0.250000\n",
       "50%              0.500000\n",
       "75%              0.750000\n",
       "max              1.000000"
      ]
     },
     "execution_count": 17,
     "metadata": {},
     "output_type": "execute_result"
    }
   ],
   "source": [
    "df[['sim_a_sin_segmento']].describe()"
   ]
  },
  {
   "cell_type": "code",
   "execution_count": 18,
   "metadata": {},
   "outputs": [
    {
     "data": {
      "image/png": "[encoded data removed]",
      "text/plain": [
       "<Figure size 500x200 with 1 Axes>"
      ]
     },
     "metadata": {},
     "output_type": "display_data"
    }
   ],
   "source": [
    "import matplotlib.pyplot as plt\n",
    "# %matplotlib inline\n",
    "import seaborn as sns\n",
    "\n",
    "fig, ax = plt.subplots(1,1,figsize=(5,2), sharex=True)\n",
    "# ax = ax.flat\n",
    "\n",
    "sns.kdeplot(df['sim_a_sin_segmento'], fill=True, ax=ax)\n",
    "ax.set_title('Sin Segmento')\n",
    "ax.set_xlabel(None)\n",
    "# sns.kdeplot(df['sim_b_pro'], fill=True, ax=ax[1])\n",
    "# ax[1].set_title('Pro')\n",
    "# ax[1].set_xlabel(None)\n",
    "# sns.kdeplot(df['sim_b_hogar'], fill=True, ax=ax[2])\n",
    "# ax[2].set_title('Hogar')\n",
    "# ax[2].set_xlabel(None)\n",
    "\n",
    "\n",
    "plt.tight_layout()"
   ]
  },
  {
   "cell_type": "code",
   "execution_count": 19,
   "metadata": {},
   "outputs": [
    {
     "data": {
      "text/plain": [
       "0.2121488757634128"
      ]
     },
     "execution_count": 19,
     "metadata": {},
     "output_type": "execute_result"
    }
   ],
   "source": [
    "_threshold = .8\n",
    "np.divide(df[df['sim_a_sin_segmento'] >= _threshold].shape[0], df.shape[0])"
   ]
  },
  {
   "cell_type": "code",
   "execution_count": null,
   "metadata": {},
   "outputs": [],
   "source": []
  }
 ],
 "metadata": {
  "kernelspec": {
   "display_name": "dev_analytics",
   "language": "python",
   "name": "python3"
  },
  "language_info": {
   "codemirror_mode": {
    "name": "ipython",
    "version": 3
   },
   "file_extension": ".py",
   "mimetype": "text/x-python",
   "name": "python",
   "nbconvert_exporter": "python",
   "pygments_lexer": "ipython3",
   "version": "3.8.19"
  }
 },
 "nbformat": 4,
 "nbformat_minor": 2
}
